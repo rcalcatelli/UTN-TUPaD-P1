{
  "nbformat": 4,
  "nbformat_minor": 0,
  "metadata": {
    "colab": {
      "provenance": []
    },
    "kernelspec": {
      "name": "python3",
      "display_name": "Python 3"
    },
    "language_info": {
      "name": "python"
    }
  },
  "cells": [
    {
      "cell_type": "markdown",
      "source": [
        "<h2>\n",
        "<font color=\"#ffcc01\">\n",
        "<b>\n",
        "PROGRAMACIÓN I - Práctico 6: Estructuras de datos complejas\n",
        "</b>\n",
        "</font>\n",
        "</h2>\n",
        "\n",
        "**Alumno:** Calcatelli Renzo.\n",
        "\n",
        "\n",
        "> **Objetivo:**\n",
        "\n",
        "\n",
        "Dominar el uso de estructuras de datos complejas en Python para\n",
        "almacenar, organizar y manipular datos de manera eficiente, aplicando\n",
        "buenas prácticas y optimizando el rendimiento de las aplicaciones.\n",
        "\n",
        "---"
      ],
      "metadata": {
        "id": "krzRrx13T8cJ"
      }
    },
    {
      "cell_type": "markdown",
      "source": [
        "### Actividades\n",
        "1. Dado el diccionario precios_frutas\n",
        "precios_frutas = {'Banana': 1200, 'Ananá': 2500, 'Melón': 3000, 'Uva':\n",
        "1450}\n",
        "\n",
        "Añadir las siguientes frutas con sus respectivos precios:\n",
        "\n",
        "- Naranja = 1200\n",
        "- Manzana = 1500\n",
        "- Pera = 2300"
      ],
      "metadata": {
        "id": "-1Xp6SckUOZZ"
      }
    },
    {
      "cell_type": "code",
      "source": [
        "precios_frutas = {'Banana': 1200, 'Ananá': 2500, 'Melón': 3000, 'Uva': 1450}\n",
        "\n",
        "# Añadir nuevas frutas\n",
        "precios_frutas.update({\n",
        "    'Naranja': 1200,\n",
        "    'Manzana': 1500,\n",
        "    'Pera': 2300\n",
        "})\n",
        "\n",
        "print(precios_frutas)"
      ],
      "metadata": {
        "colab": {
          "base_uri": "https://localhost:8080/"
        },
        "id": "dKhrJqqbUYhH",
        "outputId": "d00ce82c-0416-4d75-d93e-537da156f3ff"
      },
      "execution_count": 1,
      "outputs": [
        {
          "output_type": "stream",
          "name": "stdout",
          "text": [
            "{'Banana': 1200, 'Ananá': 2500, 'Melón': 3000, 'Uva': 1450, 'Naranja': 1200, 'Manzana': 1500, 'Pera': 2300}\n"
          ]
        }
      ]
    },
    {
      "cell_type": "markdown",
      "source": [
        "2. Siguiendo con el diccionario precios_frutas que resulta luego de ejecutar el código desarrollado en el punto anterior, actualizar los precios de las siguientes frutas:\n",
        "- Banana = 1330\n",
        "- Manzana = 1700\n",
        "- Melón = 2800"
      ],
      "metadata": {
        "id": "r-k3nXZAUjtf"
      }
    },
    {
      "cell_type": "code",
      "source": [
        "# Actualizar precios\n",
        "precios_frutas['Banana'] = 1330\n",
        "precios_frutas['Manzana'] = 1700\n",
        "precios_frutas['Melón'] = 2800\n",
        "\n",
        "print(precios_frutas)"
      ],
      "metadata": {
        "colab": {
          "base_uri": "https://localhost:8080/"
        },
        "id": "b4a6jdlpUp3b",
        "outputId": "ddd0e486-4001-4444-f98d-6ed8a8fb4946"
      },
      "execution_count": 2,
      "outputs": [
        {
          "output_type": "stream",
          "name": "stdout",
          "text": [
            "{'Banana': 1330, 'Ananá': 2500, 'Melón': 2800, 'Uva': 1450, 'Naranja': 1200, 'Manzana': 1700, 'Pera': 2300}\n"
          ]
        }
      ]
    },
    {
      "cell_type": "markdown",
      "source": [
        "3. Siguiendo con el diccionario precios_frutas que resulta luego de ejecutar el código\n",
        "desarrollado en el punto anterior, crear una lista que contenga únicamente las frutas sin los\n",
        "precios.\n"
      ],
      "metadata": {
        "id": "e86cmeL-U0-X"
      }
    },
    {
      "cell_type": "code",
      "source": [
        "lista_frutas = list(precios_frutas.keys())\n",
        "print(lista_frutas)"
      ],
      "metadata": {
        "colab": {
          "base_uri": "https://localhost:8080/"
        },
        "id": "r9FNjjztU3aT",
        "outputId": "fa9fbea7-79ea-4441-c7c6-0ee1b590874d"
      },
      "execution_count": 3,
      "outputs": [
        {
          "output_type": "stream",
          "name": "stdout",
          "text": [
            "['Banana', 'Ananá', 'Melón', 'Uva', 'Naranja', 'Manzana', 'Pera']\n"
          ]
        }
      ]
    },
    {
      "cell_type": "markdown",
      "source": [
        "4. Escribí un programa que permita almacenar y consultar números telefónicos.\n",
        "- Permití al usuario cargar 5 contactos con su nombre como clave y número como valor.\n",
        "- Luego, pedí un nombre y mostrale el número asociado, si existe."
      ],
      "metadata": {
        "id": "D1SfUkUlU7wP"
      }
    },
    {
      "cell_type": "code",
      "source": [
        "agenda = {}\n",
        "for i in range(5):\n",
        "    nombre = input(f\"Ingrese nombre del contacto {i+1}: \")\n",
        "    numero = input(f\"Ingrese número de {nombre}: \")\n",
        "    agenda[nombre] = numero\n",
        "\n",
        "consulta = input(\"Ingrese nombre a consultar: \")\n",
        "print(f\"Teléfono: {agenda.get(consulta, 'No encontrado')}\")"
      ],
      "metadata": {
        "colab": {
          "base_uri": "https://localhost:8080/",
          "height": 356
        },
        "id": "Qq8ytFTcU-YZ",
        "outputId": "176ac0c1-b857-4ee7-88af-44fcb5ef65cc"
      },
      "execution_count": 5,
      "outputs": [
        {
          "output_type": "error",
          "ename": "KeyboardInterrupt",
          "evalue": "Interrupted by user",
          "traceback": [
            "\u001b[0;31m---------------------------------------------------------------------------\u001b[0m",
            "\u001b[0;31mKeyboardInterrupt\u001b[0m                         Traceback (most recent call last)",
            "\u001b[0;32m<ipython-input-5-d0c8de067d60>\u001b[0m in \u001b[0;36m<cell line: 0>\u001b[0;34m()\u001b[0m\n\u001b[1;32m      1\u001b[0m \u001b[0magenda\u001b[0m \u001b[0;34m=\u001b[0m \u001b[0;34m{\u001b[0m\u001b[0;34m}\u001b[0m\u001b[0;34m\u001b[0m\u001b[0;34m\u001b[0m\u001b[0m\n\u001b[1;32m      2\u001b[0m \u001b[0;32mfor\u001b[0m \u001b[0mi\u001b[0m \u001b[0;32min\u001b[0m \u001b[0mrange\u001b[0m\u001b[0;34m(\u001b[0m\u001b[0;36m5\u001b[0m\u001b[0;34m)\u001b[0m\u001b[0;34m:\u001b[0m\u001b[0;34m\u001b[0m\u001b[0;34m\u001b[0m\u001b[0m\n\u001b[0;32m----> 3\u001b[0;31m     \u001b[0mnombre\u001b[0m \u001b[0;34m=\u001b[0m \u001b[0minput\u001b[0m\u001b[0;34m(\u001b[0m\u001b[0;34mf\"Ingrese nombre del contacto {i+1}: \"\u001b[0m\u001b[0;34m)\u001b[0m\u001b[0;34m\u001b[0m\u001b[0;34m\u001b[0m\u001b[0m\n\u001b[0m\u001b[1;32m      4\u001b[0m     \u001b[0mnumero\u001b[0m \u001b[0;34m=\u001b[0m \u001b[0minput\u001b[0m\u001b[0;34m(\u001b[0m\u001b[0;34mf\"Ingrese número de {nombre}: \"\u001b[0m\u001b[0;34m)\u001b[0m\u001b[0;34m\u001b[0m\u001b[0;34m\u001b[0m\u001b[0m\n\u001b[1;32m      5\u001b[0m     \u001b[0magenda\u001b[0m\u001b[0;34m[\u001b[0m\u001b[0mnombre\u001b[0m\u001b[0;34m]\u001b[0m \u001b[0;34m=\u001b[0m \u001b[0mnumero\u001b[0m\u001b[0;34m\u001b[0m\u001b[0;34m\u001b[0m\u001b[0m\n",
            "\u001b[0;32m/usr/local/lib/python3.11/dist-packages/ipykernel/kernelbase.py\u001b[0m in \u001b[0;36mraw_input\u001b[0;34m(self, prompt)\u001b[0m\n\u001b[1;32m   1175\u001b[0m                 \u001b[0;34m\"raw_input was called, but this frontend does not support input requests.\"\u001b[0m\u001b[0;34m\u001b[0m\u001b[0;34m\u001b[0m\u001b[0m\n\u001b[1;32m   1176\u001b[0m             )\n\u001b[0;32m-> 1177\u001b[0;31m         return self._input_request(\n\u001b[0m\u001b[1;32m   1178\u001b[0m             \u001b[0mstr\u001b[0m\u001b[0;34m(\u001b[0m\u001b[0mprompt\u001b[0m\u001b[0;34m)\u001b[0m\u001b[0;34m,\u001b[0m\u001b[0;34m\u001b[0m\u001b[0;34m\u001b[0m\u001b[0m\n\u001b[1;32m   1179\u001b[0m             \u001b[0mself\u001b[0m\u001b[0;34m.\u001b[0m\u001b[0m_parent_ident\u001b[0m\u001b[0;34m[\u001b[0m\u001b[0;34m\"shell\"\u001b[0m\u001b[0;34m]\u001b[0m\u001b[0;34m,\u001b[0m\u001b[0;34m\u001b[0m\u001b[0;34m\u001b[0m\u001b[0m\n",
            "\u001b[0;32m/usr/local/lib/python3.11/dist-packages/ipykernel/kernelbase.py\u001b[0m in \u001b[0;36m_input_request\u001b[0;34m(self, prompt, ident, parent, password)\u001b[0m\n\u001b[1;32m   1217\u001b[0m             \u001b[0;32mexcept\u001b[0m \u001b[0mKeyboardInterrupt\u001b[0m\u001b[0;34m:\u001b[0m\u001b[0;34m\u001b[0m\u001b[0;34m\u001b[0m\u001b[0m\n\u001b[1;32m   1218\u001b[0m                 \u001b[0;31m# re-raise KeyboardInterrupt, to truncate traceback\u001b[0m\u001b[0;34m\u001b[0m\u001b[0;34m\u001b[0m\u001b[0m\n\u001b[0;32m-> 1219\u001b[0;31m                 \u001b[0;32mraise\u001b[0m \u001b[0mKeyboardInterrupt\u001b[0m\u001b[0;34m(\u001b[0m\u001b[0;34m\"Interrupted by user\"\u001b[0m\u001b[0;34m)\u001b[0m \u001b[0;32mfrom\u001b[0m \u001b[0;32mNone\u001b[0m\u001b[0;34m\u001b[0m\u001b[0;34m\u001b[0m\u001b[0m\n\u001b[0m\u001b[1;32m   1220\u001b[0m             \u001b[0;32mexcept\u001b[0m \u001b[0mException\u001b[0m\u001b[0;34m:\u001b[0m\u001b[0;34m\u001b[0m\u001b[0;34m\u001b[0m\u001b[0m\n\u001b[1;32m   1221\u001b[0m                 \u001b[0mself\u001b[0m\u001b[0;34m.\u001b[0m\u001b[0mlog\u001b[0m\u001b[0;34m.\u001b[0m\u001b[0mwarning\u001b[0m\u001b[0;34m(\u001b[0m\u001b[0;34m\"Invalid Message:\"\u001b[0m\u001b[0;34m,\u001b[0m \u001b[0mexc_info\u001b[0m\u001b[0;34m=\u001b[0m\u001b[0;32mTrue\u001b[0m\u001b[0;34m)\u001b[0m\u001b[0;34m\u001b[0m\u001b[0;34m\u001b[0m\u001b[0m\n",
            "\u001b[0;31mKeyboardInterrupt\u001b[0m: Interrupted by user"
          ]
        }
      ]
    },
    {
      "cell_type": "markdown",
      "source": [
        "5. Solicita al usuario una frase e imprime:\n",
        "- Las palabras únicas (usando un set).\n",
        "- Un diccionario con la cantidad de veces que aparece cada palabra."
      ],
      "metadata": {
        "id": "D9UVYrqwVHmo"
      }
    },
    {
      "cell_type": "code",
      "source": [
        "frase = input(\"Ingrese una frase: \")\n",
        "palabras = frase.split()\n",
        "\n",
        "# Palabras únicas\n",
        "unicas = set(palabras)\n",
        "print(\"Palabras únicas:\", unicas)\n",
        "\n",
        "# Conteo de palabras\n",
        "conteo = {}\n",
        "for palabra in palabras:\n",
        "    conteo[palabra] = conteo.get(palabra, 0) + 1\n",
        "print(\"Conteo de palabras:\", conteo)"
      ],
      "metadata": {
        "colab": {
          "base_uri": "https://localhost:8080/"
        },
        "id": "gq8c3ZzmVKct",
        "outputId": "0dca1e60-0aa0-4305-d277-8aab7d4ad1b9"
      },
      "execution_count": 6,
      "outputs": [
        {
          "output_type": "stream",
          "name": "stdout",
          "text": [
            "Ingrese una frase: El que se la juega es el que se la lleva\n",
            "Palabras únicas: {'la', 'se', 'El', 'es', 'juega', 'el', 'lleva', 'que'}\n",
            "Conteo de palabras: {'El': 1, 'que': 2, 'se': 2, 'la': 2, 'juega': 1, 'es': 1, 'el': 1, 'lleva': 1}\n"
          ]
        }
      ]
    },
    {
      "cell_type": "markdown",
      "source": [
        "6. Permití ingresar los nombres de 3 alumnos, y para cada uno una tupla de 3 notas. Luego, mostrá el promedio de cada alumno."
      ],
      "metadata": {
        "id": "PlzN4qX0VY5Y"
      }
    },
    {
      "cell_type": "code",
      "source": [
        "alumnos = {}\n",
        "for i in range(3):\n",
        "    nombre = input(f\"Ingrese nombre del alumno {i+1}: \")\n",
        "    notas = tuple(float(input(f\"Ingrese nota {j+1} de {nombre}: \")) for j in range(3))\n",
        "    alumnos[nombre] = notas\n",
        "\n",
        "for nombre, notas in alumnos.items():\n",
        "    promedio = sum(notas)/len(notas)\n",
        "    print(f\"{nombre}: promedio {promedio:.2f}\")"
      ],
      "metadata": {
        "colab": {
          "base_uri": "https://localhost:8080/"
        },
        "id": "o2iOQuDgVcdo",
        "outputId": "601c228d-a5a6-4619-9b10-fed3d126b5b6"
      },
      "execution_count": 7,
      "outputs": [
        {
          "output_type": "stream",
          "name": "stdout",
          "text": [
            "Ingrese nombre del alumno 1: Renzo\n",
            "Ingrese nota 1 de Renzo: 10\n",
            "Ingrese nota 2 de Renzo: 8\n",
            "Ingrese nota 3 de Renzo: 7\n",
            "Ingrese nombre del alumno 2: Fernando\n",
            "Ingrese nota 1 de Fernando: 8\n",
            "Ingrese nota 2 de Fernando: 3\n",
            "Ingrese nota 3 de Fernando: 5\n",
            "Ingrese nombre del alumno 3: Pablo\n",
            "Ingrese nota 1 de Pablo: 8\n",
            "Ingrese nota 2 de Pablo: 7\n",
            "Ingrese nota 3 de Pablo: 6\n",
            "Renzo: promedio 8.33\n",
            "Fernando: promedio 5.33\n",
            "Pablo: promedio 7.00\n"
          ]
        }
      ]
    },
    {
      "cell_type": "markdown",
      "source": [
        "7. Dado dos sets de números, representando dos listas de estudiantes que aprobaron Parcial 1 y Parcial 2:\n",
        "- Mostrá los que aprobaron ambos parciales.\n",
        "- Mostrá los que aprobaron solo uno de los dos.\n",
        "- Mostrá la lista total de estudiantes que aprobaron al menos un parcial (sin repetir)."
      ],
      "metadata": {
        "id": "i06lBFhUVgdn"
      }
    },
    {
      "cell_type": "code",
      "source": [
        "parcial1 = {101, 102, 105, 107, 110}\n",
        "parcial2 = {102, 103, 105, 108, 110}\n",
        "\n",
        "# Aprobaron ambos\n",
        "ambos = parcial1 & parcial2\n",
        "print(\"Aprobaron ambos:\", ambos)\n",
        "\n",
        "# Aprobaron solo uno\n",
        "solo_uno = parcial1 ^ parcial2\n",
        "print(\"Aprobaron solo uno:\", solo_uno)\n",
        "\n",
        "# Aprobaron al menos uno\n",
        "al_menos_uno = parcial1 | parcial2\n",
        "print(\"Aprobaron al menos uno:\", al_menos_uno)"
      ],
      "metadata": {
        "colab": {
          "base_uri": "https://localhost:8080/"
        },
        "id": "shlgrn9IVlkS",
        "outputId": "13ebbb21-720b-4489-b175-7a1fe06330d8"
      },
      "execution_count": 9,
      "outputs": [
        {
          "output_type": "stream",
          "name": "stdout",
          "text": [
            "Aprobaron ambos: {105, 110, 102}\n",
            "Aprobaron solo uno: {101, 103, 107, 108}\n",
            "Aprobaron al menos uno: {101, 102, 103, 105, 107, 108, 110}\n"
          ]
        }
      ]
    },
    {
      "cell_type": "markdown",
      "source": [
        "8. Armá un diccionario donde las claves sean nombres de productos y los valores su stock. Permití al usuario:\n",
        "- Consultar el stock de un producto ingresado.\n",
        "- Agregar unidades al stock si el producto ya existe.\n",
        "- Agregar un nuevo producto si no existe.\n"
      ],
      "metadata": {
        "id": "Iz6lqzyOVqbe"
      }
    },
    {
      "cell_type": "code",
      "source": [
        "inventario = {'Lápiz': 50, 'Cuaderno': 30, 'Goma': 20}\n",
        "\n",
        "while True:\n",
        "    producto = input(\"Producto (o 'salir' para terminar): \")\n",
        "    if producto.lower() == 'salir':\n",
        "        break\n",
        "\n",
        "    if producto in inventario:\n",
        "        print(f\"Stock actual: {inventario[producto]}\")\n",
        "        accion = input(\"¿Agregar unidades? (s/n): \")\n",
        "        if accion.lower() == 's':\n",
        "            unidades = int(input(\"Unidades a agregar: \"))\n",
        "            inventario[producto] += unidades\n",
        "    else:\n",
        "        print(\"Producto no encontrado\")\n",
        "        agregar = input(\"¿Agregar nuevo producto? (s/n): \")\n",
        "        if agregar.lower() == 's':\n",
        "            stock = int(input(\"Stock inicial: \"))\n",
        "            inventario[producto] = stock\n",
        "\n",
        "print(\"Inventario final:\", inventario)"
      ],
      "metadata": {
        "colab": {
          "base_uri": "https://localhost:8080/"
        },
        "id": "NmskdkjQVvnX",
        "outputId": "710fa179-e5cb-4726-80df-b668c467f390"
      },
      "execution_count": 10,
      "outputs": [
        {
          "output_type": "stream",
          "name": "stdout",
          "text": [
            "Producto (o 'salir' para terminar): producto\n",
            "Producto no encontrado\n",
            "¿Agregar nuevo producto? (s/n): s\n",
            "Stock inicial: 10\n",
            "Producto (o 'salir' para terminar): banana\n",
            "Producto no encontrado\n",
            "¿Agregar nuevo producto? (s/n): si\n",
            "Producto (o 'salir' para terminar): lapiz\n",
            "Producto no encontrado\n",
            "¿Agregar nuevo producto? (s/n): s\n",
            "Stock inicial: 10\n",
            "Producto (o 'salir' para terminar): lápiz\n",
            "Producto no encontrado\n",
            "¿Agregar nuevo producto? (s/n): n\n",
            "Producto (o 'salir' para terminar): salir\n",
            "Inventario final: {'Lápiz': 50, 'Cuaderno': 30, 'Goma': 20, 'producto': 10, 'lapiz': 10}\n"
          ]
        }
      ]
    },
    {
      "cell_type": "markdown",
      "source": [
        "9. Creá una agenda donde las claves sean tuplas de (día, hora) y los valores sean eventos."
      ],
      "metadata": {
        "id": "hR6kILGzVyTD"
      }
    },
    {
      "cell_type": "code",
      "source": [
        "agenda = {\n",
        "    ('Lunes', '09:00'): 'Reunión equipo',\n",
        "    ('Martes', '14:00'): 'Clase de programación'\n",
        "}\n",
        "\n",
        "dia = input(\"Día a consultar: \")\n",
        "hora = input(\"Hora a consultar: \")\n",
        "\n",
        "evento = agenda.get((dia, hora), \"No hay eventos programados\")\n",
        "print(f\"Evento: {evento}\")"
      ],
      "metadata": {
        "colab": {
          "base_uri": "https://localhost:8080/"
        },
        "id": "sa2DDi8uV0Ji",
        "outputId": "16ae55c3-042a-4f14-feb4-b7b5c2447b19"
      },
      "execution_count": 16,
      "outputs": [
        {
          "output_type": "stream",
          "name": "stdout",
          "text": [
            "Día a consultar: Lunes\n",
            "Hora a consultar: 09:00\n",
            "Evento: Reunión equipo\n"
          ]
        }
      ]
    },
    {
      "cell_type": "markdown",
      "source": [
        "10. Dado un diccionario que mapea nombres de países con sus capitales, construí un nuevo diccionario donde:\n",
        "- Las capitales sean las claves.\n",
        "- Los países sean los valores.\n"
      ],
      "metadata": {
        "id": "AvSCDibeV2j2"
      }
    },
    {
      "cell_type": "code",
      "source": [
        "paises = {\n",
        "    'Argentina': 'Buenos Aires',\n",
        "    'Brasil': 'Brasilia',\n",
        "    'Chile': 'Santiago'\n",
        "}\n",
        "\n",
        "capitales = {capital: pais for pais, capital in paises.items()}\n",
        "print(\"Diccionario invertido:\", capitales)"
      ],
      "metadata": {
        "colab": {
          "base_uri": "https://localhost:8080/"
        },
        "id": "Tmb0wUC1V7Qs",
        "outputId": "13737825-e37a-46b1-eac0-bba91cb1d980"
      },
      "execution_count": 17,
      "outputs": [
        {
          "output_type": "stream",
          "name": "stdout",
          "text": [
            "Diccionario invertido: {'Buenos Aires': 'Argentina', 'Brasilia': 'Brasil', 'Santiago': 'Chile'}\n"
          ]
        }
      ]
    }
  ]
}