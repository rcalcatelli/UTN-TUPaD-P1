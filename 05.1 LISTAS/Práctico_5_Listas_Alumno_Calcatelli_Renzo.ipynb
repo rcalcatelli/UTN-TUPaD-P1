{
  "nbformat": 4,
  "nbformat_minor": 0,
  "metadata": {
    "colab": {
      "provenance": []
    },
    "kernelspec": {
      "name": "python3",
      "display_name": "Python 3"
    },
    "language_info": {
      "name": "python"
    }
  },
  "cells": [
    {
      "cell_type": "markdown",
      "source": [
        "# **Práctico 5: Listas**\n",
        "**Alumno:** Calcatelli Renzo.\n",
        "\n",
        "\n",
        "> **Objetivo:**\n",
        "Desarrollar la comprensión y la capacidad de manipular listas en Python mediante la aplicación de conceptos fundamentales como la indexación, la\n",
        "modificación de elementos, el uso de métodos integrados y el manejo de\n",
        "listas anidadas.\n",
        "\n",
        "\n"
      ],
      "metadata": {
        "id": "9CNIIJ9aEVQA"
      }
    },
    {
      "cell_type": "markdown",
      "source": [
        "### **Actividad 1: Crear una lista con múltiplos de 4 del 1 al 100**\n",
        "\n",
        "**Proceso de Resolución:**\n",
        "\n",
        "1.   **Entender el objetivo:** Necesitamos generar una secuencia de números que cumplan dos condiciones: estar dentro del rango del 1 al 100 (inclusive) y ser divisibles por 4 (es decir, múltiplos de 4).\n",
        "2.   **Utilizar la función range():** La función range() en Python es ideal para generar secuencias numéricas. Nos permite especificar un inicio, un final (no incluido) y un paso.\n",
        "3.   **Determinar los parámetros de range():**\n",
        "\n",
        "  *   **Inicio:** El primer múltiplo de 4 dentro del rango del 1 al 100 es el 4. Por lo tanto, nuestro inicio será 4.\n",
        "  *   **Final:** Queremos incluir múltiplos hasta el 100. La función range() se detiene antes del valor final, así que necesitamos un valor que sea mayor que 100. Podemos usar 101.\n",
        "  *   **Paso:** Queremos múltiplos de 4, así que el paso será 4.\n",
        "\n",
        "4.   Generar la secuencia: Usaremos range(4, 101, 4) para crear la secuencia de números deseada.\n",
        "5.   Convertir la secuencia a una lista: La función range() devuelve un objeto iterable (una secuencia), pero la actividad pide una lista. Podemos convertir esta secuencia a una lista utilizando la función list().\n",
        "\n",
        "\n",
        "\n",
        "\n",
        "\n",
        "\n",
        "\n",
        "\n",
        "\n",
        "\n",
        "\n",
        "\n",
        "\n"
      ],
      "metadata": {
        "id": "DrUq6NVaFORe"
      }
    },
    {
      "cell_type": "markdown",
      "source": [
        "#### **Código en Python:**"
      ],
      "metadata": {
        "id": "ntZBbIpoL-Oe"
      }
    },
    {
      "cell_type": "code",
      "source": [
        "multiplos_de_cuatro = list(range(4, 101, 4))\n",
        "print(multiplos_de_cuatro)"
      ],
      "metadata": {
        "colab": {
          "base_uri": "https://localhost:8080/"
        },
        "id": "kPK_TM_wGLzX",
        "outputId": "0a1878dd-ff73-46d2-d489-74c373201182"
      },
      "execution_count": 2,
      "outputs": [
        {
          "output_type": "stream",
          "name": "stdout",
          "text": [
            "[4, 8, 12, 16, 20, 24, 28, 32, 36, 40, 44, 48, 52, 56, 60, 64, 68, 72, 76, 80, 84, 88, 92, 96, 100]\n"
          ]
        }
      ]
    },
    {
      "cell_type": "markdown",
      "source": [
        "**Explicación:**\n",
        "\n",
        "\n",
        "*   `range(4, 101, 4)` genera la secuencia: 4, 8, 12, ..., 96, 100.\n",
        "*   `list(...)` toma esta secuencia y la convierte en una lista, almacenándola en la variable multiplos_de_cuatro.\n",
        "*   `print(multiplos_de_cuatro)` muestra la lista resultante por pantalla.\n",
        "\n",
        "\n",
        "\n",
        "\n",
        "\n"
      ],
      "metadata": {
        "id": "IhEjThZdGjDd"
      }
    },
    {
      "cell_type": "markdown",
      "source": [
        "### **Actividad 2: Mostrar el penúltimo elemento de una lista**\n",
        "\n",
        "**Proceso de Resolución:**\n",
        "\n",
        "\n",
        "1.   **Crear una lista:** Primero, necesitamos una lista con cinco elementos de nuestra elección.\n",
        "2.   **Acceder al penúltimo elemento:** Hay dos formas principales de hacerlo:\n",
        "\n",
        "\n",
        "*   **Usando indexación con números negativos:** Los índices negativos en Python acceden a los elementos desde el final de la lista. El último elemento tiene el índice `-1`, el penúltimo tiene el índice `-2`, y así sucesivamente.\n",
        "*   **Usando la longitud de la lista:** Podemos obtener la longitud de la lista con la función `len()` y luego usar ese valor para calcular el índice del penúltimo elemento (que sería `longitud - 2`, recordando que los índices comienzan en 0).\n",
        "\n",
        "\n",
        "\n",
        "\n",
        "\n",
        "\n"
      ],
      "metadata": {
        "id": "iMu9d2mtG5aN"
      }
    },
    {
      "cell_type": "markdown",
      "source": [
        "#### **Código en Python (opción con índice negativo):**"
      ],
      "metadata": {
        "id": "lLu-0SK_IgjI"
      }
    },
    {
      "cell_type": "code",
      "source": [
        "mi_lista_favorita = [\"libro\", \"café\", \"música\", \"viajar\", \"playa\"]\n",
        "penultimo_elemento = mi_lista_favorita[-2]\n",
        "print(f\"El penúltimo elemento es: {penultimo_elemento}\")"
      ],
      "metadata": {
        "colab": {
          "base_uri": "https://localhost:8080/"
        },
        "id": "77NFZLo5Iwjz",
        "outputId": "faca1258-8bcc-40f5-fc11-6d614c2ec47b"
      },
      "execution_count": 6,
      "outputs": [
        {
          "output_type": "stream",
          "name": "stdout",
          "text": [
            "El penúltimo elemento es: viajar\n"
          ]
        }
      ]
    },
    {
      "cell_type": "markdown",
      "source": [
        "#### **Código en Python (opción con longitud):**"
      ],
      "metadata": {
        "id": "iiwFu_y4I7iW"
      }
    },
    {
      "cell_type": "code",
      "source": [
        "mi_lista_favorita = [\"libro\", \"café\", \"música\", \"viajar\", \"playa\"]\n",
        "penultimo_indice = len(mi_lista_favorita) - 2\n",
        "penultimo_elemento = mi_lista_favorita[penultimo_indice]\n",
        "print(f\"El penúltimo elemento es: {penultimo_elemento}\")"
      ],
      "metadata": {
        "colab": {
          "base_uri": "https://localhost:8080/"
        },
        "id": "10nJmkCNI_pT",
        "outputId": "e16fb941-e272-4023-946f-8faa8432eb17"
      },
      "execution_count": 5,
      "outputs": [
        {
          "output_type": "stream",
          "name": "stdout",
          "text": [
            "El penúltimo elemento es: viajar\n"
          ]
        }
      ]
    },
    {
      "cell_type": "markdown",
      "source": [
        "**Explicación:**\n",
        "\n",
        "*   En ambas opciones, primero creamos una lista llamada mi_lista_favorita.\n",
        "*   **Opción con índice negativo:** `mi_lista_favorita[-2]` accede directamente al segundo elemento contando desde el final de la lista.\n",
        "*   **Opción con longitud:**\n",
        "  *   `len(mi_lista_favorita)` devuelve la cantidad de elementos en la lista (que es 5).\n",
        "  *   Restamos 2 a la longitud (5 - 2 = 3) para obtener el índice del penúltimo elemento (índice 3 corresponde a \"viajar\"). ¡Ojo! Aquí hubo un error en el razonamiento inicial. El penúltimo índice es `len(lista) - 2`, que sería `5 - 2 = 3`. Sin embargo, el elemento en ese índice es el penúltimo. La corrección sería:\n",
        "      *   El último índice es `len(lista) - 1` (5 - 1 = 4, \"playa\").\n",
        "      *   El penúltimo índice es `len(lista) - 2` (5 - 2 = 3, \"viajar\").\n",
        "  *   `mi_lista_favorita[penultimo_indice]` accede al elemento en ese índice.\n",
        "*   Finalmente, se imprime el penúltimo elemento.\n",
        "\n",
        "\n",
        "\n",
        "\n",
        "\n",
        "\n",
        "\n",
        "\n",
        "\n",
        "\n",
        "\n",
        "\n",
        "\n",
        "\n"
      ],
      "metadata": {
        "id": "9oYp2BLzJQLy"
      }
    },
    {
      "cell_type": "markdown",
      "source": [
        "### **Actividad 3: Crear una lista vacía y agregar palabras**\n",
        "\n",
        "**Proceso de Resolución:**\n",
        "\n",
        "\n",
        "1.   **Crear una lista vacía:** Tal como se indica en la pista, una lista vacía se crea utilizando corchetes sin nada en su interior: [].\n",
        "1.   **Utilizar el método `append()`:** El método `append()` es un método integrado de las listas en Python que permite añadir un elemento al final de la lista.\n",
        "2.   **Agregar tres palabras:** Llamaremos al método `append()` tres veces, cada vez con una palabra diferente como argumento.\n",
        "2.   **Imprimir la lista resultante:** Usaremos la función `print()` para mostrar el contenido de la lista después de agregar las palabras.\n",
        "\n",
        "\n",
        "\n",
        "\n",
        "\n"
      ],
      "metadata": {
        "id": "hee-Q318LQ8B"
      }
    },
    {
      "cell_type": "markdown",
      "source": [
        "#### **Código en Python:**"
      ],
      "metadata": {
        "id": "vpny6auRMByz"
      }
    },
    {
      "cell_type": "code",
      "source": [
        "lista_de_palabras = []\n",
        "lista_de_palabras.append(\"sol\")\n",
        "lista_de_palabras.append(\"luna\")\n",
        "lista_de_palabras.append(\"estrella\")\n",
        "print(lista_de_palabras)"
      ],
      "metadata": {
        "colab": {
          "base_uri": "https://localhost:8080/"
        },
        "id": "3CQkpsoPMCX-",
        "outputId": "27843312-fac3-4676-e73b-90b1517d7c6f"
      },
      "execution_count": 7,
      "outputs": [
        {
          "output_type": "stream",
          "name": "stdout",
          "text": [
            "['sol', 'luna', 'estrella']\n"
          ]
        }
      ]
    },
    {
      "cell_type": "markdown",
      "source": [
        "**Explicación:**\n",
        "\n",
        "\n",
        "*   `lista_de_palabras = []` crea una lista vacía.\n",
        "*   `lista_de_palabras.append(\"sol\")` añade la cadena \"sol\" al final de la lista.\n",
        "*   `lista_de_palabras.append(\"luna\")` añade la cadena \"luna\" al final de la lista.\n",
        "*   `lista_de_palabras.append(\"estrella\")` añade la cadena \"estrella\" al final de la lista.\n",
        "*   `print(lista_de_palabras)` muestra la lista resultante: `['sol', 'luna', 'estrella']`.\n",
        "\n",
        "\n",
        "\n",
        "\n",
        "\n",
        "\n",
        "\n",
        "\n",
        "\n",
        "\n"
      ],
      "metadata": {
        "id": "f9D-iycfMQQx"
      }
    },
    {
      "cell_type": "markdown",
      "source": [
        "### **Actividad 4: Reemplazar elementos en la lista \"animales\"**\n",
        "\n",
        "**Proceso de Resolución:**\n",
        "\n",
        "\n",
        "1.   Entender el objetivo: Necesitamos modificar la lista `animales` reemplazando el segundo elemento y el último elemento con valores específicos.\n",
        "2.   Acceder al segundo elemento: El segundo elemento de la lista tiene un índice de `1` (recordando que la indexación comienza en 0).\n",
        "3.   Acceder al último elemento: El último elemento de la lista se puede acceder utilizando el índice `-1`.\n",
        "4.   Realizar la asignación: Utilizaremos la sintaxis de asignación (`=`) para reemplazar los valores en las posiciones correspondientes.\n",
        "5.   Imprimir la lista resultante: Usaremos `print()` para verificar los cambios.\n",
        "\n",
        "\n",
        "\n",
        "\n",
        "\n",
        "\n",
        "\n",
        "\n"
      ],
      "metadata": {
        "id": "6uMKBHY7M9xP"
      }
    },
    {
      "cell_type": "markdown",
      "source": [
        "#### **Código en Python:**"
      ],
      "metadata": {
        "id": "lNCb0rcdNZYC"
      }
    },
    {
      "cell_type": "code",
      "source": [
        "animales = [\"perro\", \"gato\", \"conejo\", \"pez\"]\n",
        "animales[1] = \"loro\"  # Reemplaza el segundo elemento (índice 1) con \"loro\"\n",
        "animales[-1] = \"oso\"  # Reemplaza el último elemento (índice -1) con \"oso\"\n",
        "print(animales)"
      ],
      "metadata": {
        "colab": {
          "base_uri": "https://localhost:8080/"
        },
        "id": "Z5XoNYf8NaJd",
        "outputId": "7fe8bb3e-ec6b-4dce-8900-7537e9c74eba"
      },
      "execution_count": 8,
      "outputs": [
        {
          "output_type": "stream",
          "name": "stdout",
          "text": [
            "['perro', 'loro', 'conejo', 'oso']\n"
          ]
        }
      ]
    },
    {
      "cell_type": "markdown",
      "source": [
        "**Explicación:**\n",
        "\n",
        "\n",
        "*   `animales = [\"perro\", \"gato\", \"conejo\", \"pez\"]` inicializa la lista.\n",
        "*   `animales[1] = \"loro\"` accede al elemento en el índice 1 (que es \"gato\") y lo reemplaza con la cadena \"loro\".\n",
        "*   `animales[-1] = \"oso\"` accede al último elemento de la lista (que es \"pez\") y lo reemplaza con la cadena \"oso\".\n",
        "*   `print(animales)` muestra la lista modificada: `['perro', 'loro', 'conejo', 'oso']`.\n",
        "\n",
        "\n",
        "\n",
        "\n",
        "\n",
        "\n"
      ],
      "metadata": {
        "id": "Foh3mdfONgiZ"
      }
    }
  ]
}