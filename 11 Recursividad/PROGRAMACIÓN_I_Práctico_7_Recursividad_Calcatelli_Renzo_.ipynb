{
  "nbformat": 4,
  "nbformat_minor": 0,
  "metadata": {
    "colab": {
      "provenance": []
    },
    "kernelspec": {
      "name": "python3",
      "display_name": "Python 3"
    },
    "language_info": {
      "name": "python"
    }
  },
  "cells": [
    {
      "cell_type": "markdown",
      "source": [
        "<h2>\n",
        "<font color=\"#ffcc01\">\n",
        "<b>\n",
        "PROGRAMACIÓN I - Práctico 7: Recursividad\n",
        "</b>\n",
        "</font>\n",
        "</h2>\n",
        "\n",
        "**Alumno:** Calcatelli Renzo.\n",
        "\n",
        "\n",
        "> **Objetivo:**\n",
        "\n",
        "---\n",
        "\n",
        "\n",
        "Comprender el uso de recursividad en problemas matemáticos simples.\n"
      ],
      "metadata": {
        "id": "FSkZalolWYyU"
      }
    },
    {
      "cell_type": "markdown",
      "source": [
        "### **Ejercicios**\n"
      ],
      "metadata": {
        "id": "6x1K9xVPYCaV"
      }
    },
    {
      "cell_type": "markdown",
      "source": [
        "1. Crea una función recursiva que calcule el factorial de un número. Luego, utiliza esa\n",
        "función para calcular y mostrar en pantalla el factorial de todos los números enteros\n",
        "entre 1 y el número que indique el usuario\n"
      ],
      "metadata": {
        "id": "Q8l8XnBfYXHH"
      }
    },
    {
      "cell_type": "code",
      "source": [
        "def factorial(n):\n",
        "    if n == 0 or n == 1:\n",
        "        return 1\n",
        "    else:\n",
        "        return n * factorial(n - 1)\n",
        "\n",
        "# Mostrar factoriales desde 1 hasta n\n",
        "n = int(input(\"Ingrese un número: \"))\n",
        "for i in range(1, n + 1):\n",
        "    print(f\"Factorial de {i}: {factorial(i)}\")"
      ],
      "metadata": {
        "colab": {
          "base_uri": "https://localhost:8080/"
        },
        "id": "fulpYLlKYPGA",
        "outputId": "23d6d843-cd5a-4a68-8328-4b6e52c91cad"
      },
      "execution_count": 1,
      "outputs": [
        {
          "output_type": "stream",
          "name": "stdout",
          "text": [
            "Ingrese un número: 3\n",
            "Factorial de 1: 1\n",
            "Factorial de 2: 2\n",
            "Factorial de 3: 6\n"
          ]
        }
      ]
    },
    {
      "cell_type": "markdown",
      "source": [
        "2. Crea una función recursiva que calcule el valor de la serie de Fibonacci en la posición\n",
        "indicada. Posteriormente, muestra la serie completa hasta la posición que el usuario\n",
        "especifique.\n"
      ],
      "metadata": {
        "id": "iXnigotxYnbV"
      }
    },
    {
      "cell_type": "code",
      "source": [
        "def fibonacci(pos):\n",
        "    if pos == 0:\n",
        "        return 0\n",
        "    elif pos == 1:\n",
        "        return 1\n",
        "    else:\n",
        "        return fibonacci(pos - 1) + fibonacci(pos - 2)\n",
        "\n",
        "# Mostrar serie completa\n",
        "n = int(input(\"Ingrese la posición máxima: \"))\n",
        "for i in range(n + 1):\n",
        "    print(f\"Posición {i}: {fibonacci(i)}\")"
      ],
      "metadata": {
        "colab": {
          "base_uri": "https://localhost:8080/"
        },
        "id": "iVqGhYvTYpZY",
        "outputId": "b41c22f3-edde-4e5f-f139-63dcad1c0c8c"
      },
      "execution_count": 2,
      "outputs": [
        {
          "output_type": "stream",
          "name": "stdout",
          "text": [
            "Ingrese la posición máxima: 10\n",
            "Posición 0: 0\n",
            "Posición 1: 1\n",
            "Posición 2: 1\n",
            "Posición 3: 2\n",
            "Posición 4: 3\n",
            "Posición 5: 5\n",
            "Posición 6: 8\n",
            "Posición 7: 13\n",
            "Posición 8: 21\n",
            "Posición 9: 34\n",
            "Posición 10: 55\n"
          ]
        }
      ]
    },
    {
      "cell_type": "markdown",
      "source": [
        "3. Crea una función recursiva que calcule la potencia de un número base elevado a un\n",
        "exponente, utilizando la fórmula 𝑛\n",
        "𝑚 = 𝑛 ∗ 𝑛\n",
        "(𝑚−1)\n",
        ". Prueba esta función en un\n",
        "algoritmo general."
      ],
      "metadata": {
        "id": "6S41qO9tYyMj"
      }
    },
    {
      "cell_type": "code",
      "source": [
        "def potencia(base, exp):\n",
        "    if exp == 0:\n",
        "        return 1\n",
        "    else:\n",
        "        return base * potencia(base, exp - 1)\n",
        "\n",
        "# Prueba\n",
        "base = int(input(\"Ingrese la base: \"))\n",
        "exponente = int(input(\"Ingrese el exponente: \"))\n",
        "print(f\"{base}^{exponente} = {potencia(base, exponente)}\")"
      ],
      "metadata": {
        "colab": {
          "base_uri": "https://localhost:8080/"
        },
        "id": "XY0LQl53Y2qr",
        "outputId": "804b9fab-8201-43cd-e59b-f1d8118667ce"
      },
      "execution_count": 3,
      "outputs": [
        {
          "output_type": "stream",
          "name": "stdout",
          "text": [
            "Ingrese la base: 3\n",
            "Ingrese el exponente: 9\n",
            "3^9 = 19683\n"
          ]
        }
      ]
    },
    {
      "cell_type": "markdown",
      "source": [
        "4. Crear una función recursiva en Python que reciba un número entero positivo en base\n",
        "decimal y devuelva su representación en binario como una cadena de texto.\n"
      ],
      "metadata": {
        "id": "yaxrNxCzZEps"
      }
    },
    {
      "cell_type": "code",
      "source": [
        "def decimal_a_binario(n):\n",
        "    if n == 0:\n",
        "        return \"0\"\n",
        "    elif n == 1:\n",
        "        return \"1\"\n",
        "    else:\n",
        "        return decimal_a_binario(n // 2) + str(n % 2)\n",
        "\n",
        "# Prueba\n",
        "num = int(input(\"Ingrese un número decimal: \"))\n",
        "print(f\"Binario: {decimal_a_binario(num)}\")"
      ],
      "metadata": {
        "colab": {
          "base_uri": "https://localhost:8080/"
        },
        "id": "gUCv_G-CZHuW",
        "outputId": "99bfaf02-0a79-47d9-e37d-873b9d48bce6"
      },
      "execution_count": 4,
      "outputs": [
        {
          "output_type": "stream",
          "name": "stdout",
          "text": [
            "Ingrese un número decimal: 10\n",
            "Binario: 1010\n"
          ]
        }
      ]
    },
    {
      "cell_type": "markdown",
      "source": [
        "5. Implementá una función recursiva llamada es_palindromo(palabra) que reciba una\n",
        "cadena de texto sin espacios ni tildes, y devuelva True si es un palíndromo o False si no lo es.\n",
        "> Requisitos:\n",
        "La solución debe ser recursiva.\n",
        "No se debe usar [::-1] ni la función reversed()."
      ],
      "metadata": {
        "id": "gnmxzEL7ZZto"
      }
    },
    {
      "cell_type": "code",
      "source": [
        "def es_palindromo(palabra):\n",
        "    if len(palabra) <= 1:\n",
        "        return True\n",
        "    if palabra[0] != palabra[-1]:\n",
        "        return False\n",
        "    return es_palindromo(palabra[1:-1])\n",
        "\n",
        "# Prueba\n",
        "texto = input(\"Ingrese una palabra: \").lower()\n",
        "print(f\"¿Es palíndromo? {es_palindromo(texto)}\")"
      ],
      "metadata": {
        "colab": {
          "base_uri": "https://localhost:8080/"
        },
        "id": "j3XGtOCPZp4J",
        "outputId": "2e96fea1-89ed-4b46-cbff-bb0e48be001e"
      },
      "execution_count": 6,
      "outputs": [
        {
          "output_type": "stream",
          "name": "stdout",
          "text": [
            "Ingrese una palabra: renzo\n",
            "¿Es palíndromo? False\n"
          ]
        }
      ]
    },
    {
      "cell_type": "markdown",
      "source": [
        "6. Escribí una función recursiva en Python llamada suma_digitos(n) que reciba un\n",
        "número entero positivo y devuelva la suma de todos sus dígitos.\n",
        "> Restricciones:\n",
        "No se puede convertir el número a string.\n",
        "Usá operaciones matemáticas (%, //) y recursión."
      ],
      "metadata": {
        "id": "_Ihq1wAKZ5P7"
      }
    },
    {
      "cell_type": "code",
      "source": [
        "def suma_digitos(n):\n",
        "    if n < 10:\n",
        "        return n\n",
        "    else:\n",
        "        return n % 10 + suma_digitos(n // 10)\n",
        "\n",
        "# Prueba\n",
        "numero = int(input(\"Ingrese un número: \"))\n",
        "print(f\"Suma de dígitos: {suma_digitos(numero)}\")"
      ],
      "metadata": {
        "colab": {
          "base_uri": "https://localhost:8080/"
        },
        "id": "DZnTYXkZaRXH",
        "outputId": "6022d2bc-b88d-4333-b7c2-4240130dd500"
      },
      "execution_count": 8,
      "outputs": [
        {
          "output_type": "stream",
          "name": "stdout",
          "text": [
            "Ingrese un número: 2492282\n",
            "Suma de dígitos: 29\n"
          ]
        }
      ]
    },
    {
      "cell_type": "markdown",
      "source": [
        "7. Un niño está construyendo una pirámide con bloques. En el nivel más bajo coloca n bloques, en el siguiente nivel uno menos (n - 1), y así sucesivamente hasta llegar al último nivel con un solo bloque.\n",
        "\n",
        "Escribí una función recursiva contar_bloques(n) que reciba el número de bloques en el nivel más bajo y devuelva el total de bloques que necesita para construir toda la pirámide.\n"
      ],
      "metadata": {
        "id": "cnNZeVG4aa_s"
      }
    },
    {
      "cell_type": "code",
      "source": [
        "def contar_bloques(n):\n",
        "    if n == 1:\n",
        "        return 1\n",
        "    else:\n",
        "        return n + contar_bloques(n - 1)\n",
        "\n",
        "# Prueba\n",
        "bloques = int(input(\"Bloques en base: \"))\n",
        "print(f\"Total de bloques: {contar_bloques(bloques)}\")"
      ],
      "metadata": {
        "colab": {
          "base_uri": "https://localhost:8080/"
        },
        "id": "O3xoALPfafzf",
        "outputId": "106320f3-b783-4fcd-d304-8621f4f09c00"
      },
      "execution_count": 9,
      "outputs": [
        {
          "output_type": "stream",
          "name": "stdout",
          "text": [
            "Bloques en base: 5\n",
            "Total de bloques: 15\n"
          ]
        }
      ]
    },
    {
      "cell_type": "markdown",
      "source": [
        "8. Escribí una función recursiva llamada contar_digito(numero, digito) que reciba un número entero positivo (numero) y un dígito (entre 0 y 9), y devuelva cuántas veces aparece ese dígito dentro del número."
      ],
      "metadata": {
        "id": "p2RKhOfvaqV1"
      }
    },
    {
      "cell_type": "code",
      "source": [
        "def contar_digito(numero, digito):\n",
        "    if numero < 10:\n",
        "        return 1 if numero == digito else 0\n",
        "    else:\n",
        "        ultimo = numero % 10\n",
        "        resto = numero // 10\n",
        "        return (1 if ultimo == digito else 0) + contar_digito(resto, digito)\n",
        "\n",
        "# Prueba\n",
        "num = int(input(\"Número: \"))\n",
        "d = int(input(\"Dígito a buscar (0-9): \"))\n",
        "print(f\"El dígito aparece {contar_digito(num, d)} veces\")"
      ],
      "metadata": {
        "colab": {
          "base_uri": "https://localhost:8080/"
        },
        "id": "vWAStOpZawYc",
        "outputId": "fd550298-78f1-4919-b63b-58b67671d232"
      },
      "execution_count": 12,
      "outputs": [
        {
          "output_type": "stream",
          "name": "stdout",
          "text": [
            "Número: 34292282\n",
            "Dígito a buscar (0-9): 2\n",
            "El dígito aparece 4 veces\n"
          ]
        }
      ]
    }
  ]
}